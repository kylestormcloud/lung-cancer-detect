{
 "nbformat": 4,
 "nbformat_minor": 2,
 "metadata": {
  "language_info": {
   "name": "python",
   "codemirror_mode": {
    "name": "ipython",
    "version": 3
   },
   "version": "3.7.5-final"
  },
  "orig_nbformat": 2,
  "file_extension": ".py",
  "mimetype": "text/x-python",
  "name": "python",
  "npconvert_exporter": "python",
  "pygments_lexer": "ipython3",
  "version": 3,
  "kernelspec": {
   "name": "python37564bitbasecondab9032d6a004743e5afb3f7b66a8d4b8a",
   "display_name": "Python 3.7.5 64-bit ('base': conda)"
  }
 },
 "cells": [
  {
   "cell_type": "code",
   "execution_count": 1,
   "metadata": {},
   "outputs": [],
   "source": [
    "from utils.get_data import generate_data_nested_dirs, get_cube_at_point\n",
    "import matplotlib.pylab as plt\n",
    "import numpy as np\n",
    "import imageio\n",
    "from SimpleITK import ReadImage, GetArrayFromImage, sitkFloat32\n",
    "\n",
    "scans = generate_data_nested_dirs('.')"
   ]
  },
  {
   "cell_type": "code",
   "execution_count": 2,
   "metadata": {},
   "outputs": [],
   "source": [
    "def plot_one_scan(scan:np.array):\n",
    "    # plt.figure(figsize=(32,64))\n",
    "    plt.gray()\n",
    "    plt.subplots_adjust(0,0,0.5,0.5,0.01,0.01)\n",
    "    for i in range(scan.shape[0]):\n",
    "        shape0 = scan.shape[0] // 10 + 1\n",
    "        plt.subplot(shape0, 10, i + 1)\n",
    "        plt.imshow(scan[i])\n",
    "        plt.axis('off')\n",
    "    plt.show()"
   ]
  },
  {
   "cell_type": "code",
   "execution_count": 3,
   "metadata": {},
   "outputs": [
    {
     "output_type": "execute_result",
     "data": {
      "text/plain": "                                              seriesuid      coordX  \\\n0     1.3.6.1.4.1.14519.5.2.1.6279.6001.100225287222... -128.699421   \n1     1.3.6.1.4.1.14519.5.2.1.6279.6001.100225287222...  103.783651   \n2     1.3.6.1.4.1.14519.5.2.1.6279.6001.100398138793...   69.639017   \n3     1.3.6.1.4.1.14519.5.2.1.6279.6001.100621383016...  -24.013824   \n4     1.3.6.1.4.1.14519.5.2.1.6279.6001.100621383016...    2.441547   \n...                                                 ...         ...   \n1181  1.3.6.1.4.1.14519.5.2.1.6279.6001.994459772950... -160.856298   \n1182  1.3.6.1.4.1.14519.5.2.1.6279.6001.994459772950... -102.189570   \n1183  1.3.6.1.4.1.14519.5.2.1.6279.6001.994459772950...  -37.535409   \n1184  1.3.6.1.4.1.14519.5.2.1.6279.6001.997611074084...   43.196112   \n1185  1.3.6.1.4.1.14519.5.2.1.6279.6001.997611074084...  -21.958478   \n\n          coordY      coordZ  diameter_mm  \n0    -175.319272 -298.387506     5.651471  \n1    -211.925149 -227.121250     4.224708  \n2    -140.944586  876.374496     5.786348  \n3     192.102405 -391.081276     8.143262  \n4     172.464881 -405.493732    18.545150  \n...          ...         ...          ...  \n1181  -28.560349 -269.168728     5.053694  \n1182  -73.865766 -220.536241     4.556101  \n1183   64.041949 -127.687101     4.357368  \n1184   74.438486 -200.523314     4.277203  \n1185   33.486096 -155.292026    23.802913  \n\n[1186 rows x 5 columns]",
      "text/html": "<div>\n<style scoped>\n    .dataframe tbody tr th:only-of-type {\n        vertical-align: middle;\n    }\n\n    .dataframe tbody tr th {\n        vertical-align: top;\n    }\n\n    .dataframe thead th {\n        text-align: right;\n    }\n</style>\n<table border=\"1\" class=\"dataframe\">\n  <thead>\n    <tr style=\"text-align: right;\">\n      <th></th>\n      <th>seriesuid</th>\n      <th>coordX</th>\n      <th>coordY</th>\n      <th>coordZ</th>\n      <th>diameter_mm</th>\n    </tr>\n  </thead>\n  <tbody>\n    <tr>\n      <th>0</th>\n      <td>1.3.6.1.4.1.14519.5.2.1.6279.6001.100225287222...</td>\n      <td>-128.699421</td>\n      <td>-175.319272</td>\n      <td>-298.387506</td>\n      <td>5.651471</td>\n    </tr>\n    <tr>\n      <th>1</th>\n      <td>1.3.6.1.4.1.14519.5.2.1.6279.6001.100225287222...</td>\n      <td>103.783651</td>\n      <td>-211.925149</td>\n      <td>-227.121250</td>\n      <td>4.224708</td>\n    </tr>\n    <tr>\n      <th>2</th>\n      <td>1.3.6.1.4.1.14519.5.2.1.6279.6001.100398138793...</td>\n      <td>69.639017</td>\n      <td>-140.944586</td>\n      <td>876.374496</td>\n      <td>5.786348</td>\n    </tr>\n    <tr>\n      <th>3</th>\n      <td>1.3.6.1.4.1.14519.5.2.1.6279.6001.100621383016...</td>\n      <td>-24.013824</td>\n      <td>192.102405</td>\n      <td>-391.081276</td>\n      <td>8.143262</td>\n    </tr>\n    <tr>\n      <th>4</th>\n      <td>1.3.6.1.4.1.14519.5.2.1.6279.6001.100621383016...</td>\n      <td>2.441547</td>\n      <td>172.464881</td>\n      <td>-405.493732</td>\n      <td>18.545150</td>\n    </tr>\n    <tr>\n      <th>...</th>\n      <td>...</td>\n      <td>...</td>\n      <td>...</td>\n      <td>...</td>\n      <td>...</td>\n    </tr>\n    <tr>\n      <th>1181</th>\n      <td>1.3.6.1.4.1.14519.5.2.1.6279.6001.994459772950...</td>\n      <td>-160.856298</td>\n      <td>-28.560349</td>\n      <td>-269.168728</td>\n      <td>5.053694</td>\n    </tr>\n    <tr>\n      <th>1182</th>\n      <td>1.3.6.1.4.1.14519.5.2.1.6279.6001.994459772950...</td>\n      <td>-102.189570</td>\n      <td>-73.865766</td>\n      <td>-220.536241</td>\n      <td>4.556101</td>\n    </tr>\n    <tr>\n      <th>1183</th>\n      <td>1.3.6.1.4.1.14519.5.2.1.6279.6001.994459772950...</td>\n      <td>-37.535409</td>\n      <td>64.041949</td>\n      <td>-127.687101</td>\n      <td>4.357368</td>\n    </tr>\n    <tr>\n      <th>1184</th>\n      <td>1.3.6.1.4.1.14519.5.2.1.6279.6001.997611074084...</td>\n      <td>43.196112</td>\n      <td>74.438486</td>\n      <td>-200.523314</td>\n      <td>4.277203</td>\n    </tr>\n    <tr>\n      <th>1185</th>\n      <td>1.3.6.1.4.1.14519.5.2.1.6279.6001.997611074084...</td>\n      <td>-21.958478</td>\n      <td>33.486096</td>\n      <td>-155.292026</td>\n      <td>23.802913</td>\n    </tr>\n  </tbody>\n</table>\n<p>1186 rows × 5 columns</p>\n</div>"
     },
     "metadata": {},
     "execution_count": 3
    }
   ],
   "source": [
    "import pandas as pd\n",
    "\n",
    "df_annotations = pd.read_csv('CSVFILES/annotations.csv')\n",
    "df_annotations"
   ]
  },
  {
   "cell_type": "code",
   "execution_count": 4,
   "metadata": {},
   "outputs": [],
   "source": [
    "scan = next(scans)"
   ]
  },
  {
   "cell_type": "code",
   "execution_count": 5,
   "metadata": {},
   "outputs": [
    {
     "output_type": "stream",
     "name": "stdout",
     "text": "(1.7999999523162842, 0.64453125, 0.64453125)\n(-438.4, -157.67773, -311.67773)\n1.3.6.1.4.1.14519.5.2.1.6279.6001.100225287222365663678666836860\n"
    },
    {
     "output_type": "execute_result",
     "data": {
      "text/plain": "                                           seriesuid      coordX      coordY  \\\n0  1.3.6.1.4.1.14519.5.2.1.6279.6001.100225287222... -128.699421 -175.319272   \n1  1.3.6.1.4.1.14519.5.2.1.6279.6001.100225287222...  103.783651 -211.925149   \n\n       coordZ  diameter_mm  \n0 -298.387506     5.651471  \n1 -227.121250     4.224708  ",
      "text/html": "<div>\n<style scoped>\n    .dataframe tbody tr th:only-of-type {\n        vertical-align: middle;\n    }\n\n    .dataframe tbody tr th {\n        vertical-align: top;\n    }\n\n    .dataframe thead th {\n        text-align: right;\n    }\n</style>\n<table border=\"1\" class=\"dataframe\">\n  <thead>\n    <tr style=\"text-align: right;\">\n      <th></th>\n      <th>seriesuid</th>\n      <th>coordX</th>\n      <th>coordY</th>\n      <th>coordZ</th>\n      <th>diameter_mm</th>\n    </tr>\n  </thead>\n  <tbody>\n    <tr>\n      <th>0</th>\n      <td>1.3.6.1.4.1.14519.5.2.1.6279.6001.100225287222...</td>\n      <td>-128.699421</td>\n      <td>-175.319272</td>\n      <td>-298.387506</td>\n      <td>5.651471</td>\n    </tr>\n    <tr>\n      <th>1</th>\n      <td>1.3.6.1.4.1.14519.5.2.1.6279.6001.100225287222...</td>\n      <td>103.783651</td>\n      <td>-211.925149</td>\n      <td>-227.121250</td>\n      <td>4.224708</td>\n    </tr>\n  </tbody>\n</table>\n</div>"
     },
     "metadata": {},
     "execution_count": 5
    }
   ],
   "source": [
    "array, zxy_spacing, zxy_origin, filename = scan\n",
    "print(zxy_spacing, zxy_origin, filename, sep='\\n')\n",
    "\n",
    "df_test = df_annotations.loc[df_annotations.seriesuid == filename]\n",
    "df_test"
   ]
  },
  {
   "cell_type": "code",
   "execution_count": 6,
   "metadata": {},
   "outputs": [
    {
     "output_type": "execute_result",
     "data": {
      "text/plain": "0    []\n1    []\nName: array, dtype: object"
     },
     "metadata": {},
     "execution_count": 6
    }
   ],
   "source": [
    "df_test['array'] = df_test.apply(lambda row: get_cube_at_point(array,zxy_spacing,(row['coordZ']-zxy_origin[0],row['coordX']-zxy_origin[1],row['coordY']-zxy_origin[2]),row['diameter_mm']), axis=1)\n",
    "df_test['array']"
   ]
  },
  {
   "cell_type": "code",
   "execution_count": 7,
   "metadata": {},
   "outputs": [
    {
     "output_type": "display_data",
     "data": {
      "text/plain": "<Figure size 432x288 with 0 Axes>"
     },
     "metadata": {}
    },
    {
     "output_type": "display_data",
     "data": {
      "text/plain": "<Figure size 432x288 with 0 Axes>"
     },
     "metadata": {}
    },
    {
     "output_type": "execute_result",
     "data": {
      "text/plain": "0    None\n1    None\nName: array, dtype: object"
     },
     "metadata": {},
     "execution_count": 7
    }
   ],
   "source": [
    "df_test['array'].apply(plot_one_scan)"
   ]
  },
  {
   "cell_type": "code",
   "execution_count": 8,
   "metadata": {},
   "outputs": [
    {
     "output_type": "execute_result",
     "data": {
      "text/plain": "(0, 35, 0)"
     },
     "metadata": {},
     "execution_count": 8
    }
   ],
   "source": [
    "df_test['array'][0].shape"
   ]
  },
  {
   "cell_type": "code",
   "execution_count": 9,
   "metadata": {},
   "outputs": [
    {
     "output_type": "execute_result",
     "data": {
      "text/plain": "(0, 27, 0)"
     },
     "metadata": {},
     "execution_count": 9
    }
   ],
   "source": [
    "df_test['array'][1].shape"
   ]
  },
  {
   "cell_type": "code",
   "execution_count": null,
   "metadata": {},
   "outputs": [],
   "source": []
  }
 ]
}