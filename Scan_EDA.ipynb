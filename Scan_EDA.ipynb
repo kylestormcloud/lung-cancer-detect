{
 "nbformat": 4,
 "nbformat_minor": 2,
 "metadata": {
  "language_info": {
   "name": "python",
   "codemirror_mode": {
    "name": "ipython",
    "version": 3
   },
   "version": "3.7.5-final"
  },
  "orig_nbformat": 2,
  "file_extension": ".py",
  "mimetype": "text/x-python",
  "name": "python",
  "npconvert_exporter": "python",
  "pygments_lexer": "ipython3",
  "version": 3,
  "kernelspec": {
   "name": "python37564bitbasecondab9032d6a004743e5afb3f7b66a8d4b8a",
   "display_name": "Python 3.7.5 64-bit ('base': conda)"
  }
 },
 "cells": [
  {
   "cell_type": "code",
   "execution_count": 1,
   "metadata": {},
   "outputs": [],
   "source": [
    "from utils.get_data import generate_data_nested_dirs, get_cube_at_point\n",
    "import matplotlib.pylab as plt\n",
    "import numpy as np\n",
    "import imageio\n",
    "from SimpleITK import ReadImage, GetArrayFromImage, sitkFloat32\n",
    "\n",
    "scans = generate_data_nested_dirs('.')"
   ]
  },
  {
   "cell_type": "code",
   "execution_count": 2,
   "metadata": {},
   "outputs": [],
   "source": [
    "def plot_one_scan(scan:np.array):\n",
    "    plt.figure(figsize=(32,64))\n",
    "    plt.gray()\n",
    "    plt.subplots_adjust(0,0,0.5,0.5,0.01,0.01)\n",
    "    for i in range(scan.shape[0]):\n",
    "        shape0 = scan.shape[0] // 10 + 1\n",
    "        plt.subplot(shape0, 10, i + 1)\n",
    "        plt.imshow(scan[i])\n",
    "        plt.axis('off')\n",
    "    plt.show()"
   ]
  },
  {
   "cell_type": "code",
   "execution_count": 3,
   "metadata": {},
   "outputs": [
    {
     "output_type": "execute_result",
     "data": {
      "text/plain": "                                              seriesuid      coordX  \\\n0     1.3.6.1.4.1.14519.5.2.1.6279.6001.100225287222... -128.699421   \n1     1.3.6.1.4.1.14519.5.2.1.6279.6001.100225287222...  103.783651   \n2     1.3.6.1.4.1.14519.5.2.1.6279.6001.100398138793...   69.639017   \n3     1.3.6.1.4.1.14519.5.2.1.6279.6001.100621383016...  -24.013824   \n4     1.3.6.1.4.1.14519.5.2.1.6279.6001.100621383016...    2.441547   \n...                                                 ...         ...   \n1181  1.3.6.1.4.1.14519.5.2.1.6279.6001.994459772950... -160.856298   \n1182  1.3.6.1.4.1.14519.5.2.1.6279.6001.994459772950... -102.189570   \n1183  1.3.6.1.4.1.14519.5.2.1.6279.6001.994459772950...  -37.535409   \n1184  1.3.6.1.4.1.14519.5.2.1.6279.6001.997611074084...   43.196112   \n1185  1.3.6.1.4.1.14519.5.2.1.6279.6001.997611074084...  -21.958478   \n\n          coordY      coordZ  diameter_mm  \n0    -175.319272 -298.387506     5.651471  \n1    -211.925149 -227.121250     4.224708  \n2    -140.944586  876.374496     5.786348  \n3     192.102405 -391.081276     8.143262  \n4     172.464881 -405.493732    18.545150  \n...          ...         ...          ...  \n1181  -28.560349 -269.168728     5.053694  \n1182  -73.865766 -220.536241     4.556101  \n1183   64.041949 -127.687101     4.357368  \n1184   74.438486 -200.523314     4.277203  \n1185   33.486096 -155.292026    23.802913  \n\n[1186 rows x 5 columns]",
      "text/html": "<div>\n<style scoped>\n    .dataframe tbody tr th:only-of-type {\n        vertical-align: middle;\n    }\n\n    .dataframe tbody tr th {\n        vertical-align: top;\n    }\n\n    .dataframe thead th {\n        text-align: right;\n    }\n</style>\n<table border=\"1\" class=\"dataframe\">\n  <thead>\n    <tr style=\"text-align: right;\">\n      <th></th>\n      <th>seriesuid</th>\n      <th>coordX</th>\n      <th>coordY</th>\n      <th>coordZ</th>\n      <th>diameter_mm</th>\n    </tr>\n  </thead>\n  <tbody>\n    <tr>\n      <th>0</th>\n      <td>1.3.6.1.4.1.14519.5.2.1.6279.6001.100225287222...</td>\n      <td>-128.699421</td>\n      <td>-175.319272</td>\n      <td>-298.387506</td>\n      <td>5.651471</td>\n    </tr>\n    <tr>\n      <th>1</th>\n      <td>1.3.6.1.4.1.14519.5.2.1.6279.6001.100225287222...</td>\n      <td>103.783651</td>\n      <td>-211.925149</td>\n      <td>-227.121250</td>\n      <td>4.224708</td>\n    </tr>\n    <tr>\n      <th>2</th>\n      <td>1.3.6.1.4.1.14519.5.2.1.6279.6001.100398138793...</td>\n      <td>69.639017</td>\n      <td>-140.944586</td>\n      <td>876.374496</td>\n      <td>5.786348</td>\n    </tr>\n    <tr>\n      <th>3</th>\n      <td>1.3.6.1.4.1.14519.5.2.1.6279.6001.100621383016...</td>\n      <td>-24.013824</td>\n      <td>192.102405</td>\n      <td>-391.081276</td>\n      <td>8.143262</td>\n    </tr>\n    <tr>\n      <th>4</th>\n      <td>1.3.6.1.4.1.14519.5.2.1.6279.6001.100621383016...</td>\n      <td>2.441547</td>\n      <td>172.464881</td>\n      <td>-405.493732</td>\n      <td>18.545150</td>\n    </tr>\n    <tr>\n      <th>...</th>\n      <td>...</td>\n      <td>...</td>\n      <td>...</td>\n      <td>...</td>\n      <td>...</td>\n    </tr>\n    <tr>\n      <th>1181</th>\n      <td>1.3.6.1.4.1.14519.5.2.1.6279.6001.994459772950...</td>\n      <td>-160.856298</td>\n      <td>-28.560349</td>\n      <td>-269.168728</td>\n      <td>5.053694</td>\n    </tr>\n    <tr>\n      <th>1182</th>\n      <td>1.3.6.1.4.1.14519.5.2.1.6279.6001.994459772950...</td>\n      <td>-102.189570</td>\n      <td>-73.865766</td>\n      <td>-220.536241</td>\n      <td>4.556101</td>\n    </tr>\n    <tr>\n      <th>1183</th>\n      <td>1.3.6.1.4.1.14519.5.2.1.6279.6001.994459772950...</td>\n      <td>-37.535409</td>\n      <td>64.041949</td>\n      <td>-127.687101</td>\n      <td>4.357368</td>\n    </tr>\n    <tr>\n      <th>1184</th>\n      <td>1.3.6.1.4.1.14519.5.2.1.6279.6001.997611074084...</td>\n      <td>43.196112</td>\n      <td>74.438486</td>\n      <td>-200.523314</td>\n      <td>4.277203</td>\n    </tr>\n    <tr>\n      <th>1185</th>\n      <td>1.3.6.1.4.1.14519.5.2.1.6279.6001.997611074084...</td>\n      <td>-21.958478</td>\n      <td>33.486096</td>\n      <td>-155.292026</td>\n      <td>23.802913</td>\n    </tr>\n  </tbody>\n</table>\n<p>1186 rows × 5 columns</p>\n</div>"
     },
     "metadata": {},
     "execution_count": 3
    }
   ],
   "source": [
    "import pandas as pd\n",
    "\n",
    "df_annotations = pd.read_csv('CSVFILES/annotations.csv')\n",
    "df_annotations"
   ]
  },
  {
   "cell_type": "code",
   "execution_count": 4,
   "metadata": {},
   "outputs": [],
   "source": [
    "scan = next(scans)"
   ]
  },
  {
   "cell_type": "code",
   "execution_count": 5,
   "metadata": {},
   "outputs": [
    {
     "output_type": "execute_result",
     "data": {
      "text/plain": "                                           seriesuid      coordX      coordY  \\\n0  1.3.6.1.4.1.14519.5.2.1.6279.6001.100225287222... -128.699421 -175.319272   \n1  1.3.6.1.4.1.14519.5.2.1.6279.6001.100225287222...  103.783651 -211.925149   \n\n       coordZ  diameter_mm  \n0 -298.387506     5.651471  \n1 -227.121250     4.224708  ",
      "text/html": "<div>\n<style scoped>\n    .dataframe tbody tr th:only-of-type {\n        vertical-align: middle;\n    }\n\n    .dataframe tbody tr th {\n        vertical-align: top;\n    }\n\n    .dataframe thead th {\n        text-align: right;\n    }\n</style>\n<table border=\"1\" class=\"dataframe\">\n  <thead>\n    <tr style=\"text-align: right;\">\n      <th></th>\n      <th>seriesuid</th>\n      <th>coordX</th>\n      <th>coordY</th>\n      <th>coordZ</th>\n      <th>diameter_mm</th>\n    </tr>\n  </thead>\n  <tbody>\n    <tr>\n      <th>0</th>\n      <td>1.3.6.1.4.1.14519.5.2.1.6279.6001.100225287222...</td>\n      <td>-128.699421</td>\n      <td>-175.319272</td>\n      <td>-298.387506</td>\n      <td>5.651471</td>\n    </tr>\n    <tr>\n      <th>1</th>\n      <td>1.3.6.1.4.1.14519.5.2.1.6279.6001.100225287222...</td>\n      <td>103.783651</td>\n      <td>-211.925149</td>\n      <td>-227.121250</td>\n      <td>4.224708</td>\n    </tr>\n  </tbody>\n</table>\n</div>"
     },
     "metadata": {},
     "execution_count": 5
    }
   ],
   "source": [
    "array, zxy_spacing, zxy_origin, filename = scan\n",
    "\n",
    "df_test = df_annotations.loc[df_annotations.seriesuid == filename]\n",
    "df_test"
   ]
  },
  {
   "cell_type": "code",
   "execution_count": 6,
   "metadata": {},
   "outputs": [
    {
     "output_type": "execute_result",
     "data": {
      "text/plain": "0    [[[-983.0, -998.0, -999.0, -984.0, -980.0, -96...\n1    [[[], [], [], [], [], [], [], []], [[], [], []...\nName: array, dtype: object"
     },
     "metadata": {},
     "execution_count": 6
    }
   ],
   "source": [
    "df_test['array'] = df_test.apply(lambda row: get_cube_at_point(array,zxy_spacing,(row['coordX']-zxy_origin[1],row['coordY']-zxy_origin[2],row['coordZ']-zxy_origin[0]),row['diameter_mm']), axis=1)\n",
    "df_test['array']"
   ]
  },
  {
   "cell_type": "code",
   "execution_count": 7,
   "metadata": {},
   "outputs": [
    {
     "output_type": "display_data",
     "data": {
      "text/plain": "<Figure size 2304x4608 with 4 Axes>",
      "image/svg+xml": "<?xml version=\"1.0\" encoding=\"utf-8\" standalone=\"no\"?>\n<!DOCTYPE svg PUBLIC \"-//W3C//DTD SVG 1.1//EN\"\n  \"http://www.w3.org/Graphics/SVG/1.1/DTD/svg11.dtd\">\n<!-- Created with matplotlib (https://matplotlib.org/) -->\n<svg height=\"20.850421pt\" version=\"1.1\" viewBox=\"0 0 474.514965 20.850421\" width=\"474.514965pt\" xmlns=\"http://www.w3.org/2000/svg\" xmlns:xlink=\"http://www.w3.org/1999/xlink\">\n <defs>\n  <style type=\"text/css\">\n*{stroke-linecap:butt;stroke-linejoin:round;}\n  </style>\n </defs>\n <g id=\"figure_1\">\n  <g id=\"patch_1\">\n   <path d=\"M 0 20.850421 \nL 474.514965 20.850421 \nL 474.514965 0 \nL 0 0 \nz\n\" style=\"fill:none;\"/>\n  </g>\n  <g id=\"axes_1\">\n   <g clip-path=\"url(#pddeb7582ab)\">\n    <image height=\"7\" id=\"image1dfd987e7c\" transform=\"scale(1 -1)translate(0 -7)\" width=\"115\" x=\"7.2\" xlink:href=\"data:image/png;base64,\niVBORw0KGgoAAAANSUhEUgAAAHMAAAAHCAYAAAA78HIxAAAABHNCSVQICAgIfAhkiAAABRRJREFUSIlVlsuS07oWhj9JlmzZTtLQxaWYwIBixHAXxZTigXgFZrwhA14ACoqu7iTti2RJZ7D30kk8cScdSWv9tyU1jmNZ1xUArTWlFLz3bNtGKYV1XUkp0XUdMUZSSiilKKXQdR0vXrwgpQTAly9f+Oeff/jw4QPruvL792+maeLv378YY/Deo5RiXVeUUiilsNYyDAOlFLZt4/7+nr7vSSkRQkAphXMOay0hBFJKtbZhGOpngIeHB0opPHnyhFIKIQSWZeHZs2fc3NzUs5qmYZ5nUkporTHGEGPEGMNutyPnTNM0nE4ntm3DOUfOmZwzzjm2bcNaSykFpRTzPNO2LafTiVevXrEsC+u6cnt7Swih1pFSqu9SCtZauq7DWkuMkW3b8N7jnGNdV5ZlQWvNtm0opcg5E0LgcDhUHnLOtG37L1Zt2xalFPIIYW3bknNGKUVKCe89KaXaUEoJYwxN0+Cco2kalFK8f/+eb9++8ebNG0opHI9Hfv78ida6Ai9kHA4H5OxpmljXlW3bMMbQtm09c5om+r7HGFNBDSHUM0MIWGtrPafTiaZpACilVCG1bQuAc46u67i/v69E9X3Ptm2klIgx1u8BrLX1LfhorXHOcfkcj8e6ppSCc44/f/6gtWYYBowxALRtW/uT/QCapiGlxDzPeO+rmPu+r2ID+PXrVzXYMAxs20bOGVNK+SpNCMhABU0UKK6Vp5RCzpkYI0opvPecz2fO5zPPnz/He8/Lly8r8EoplmUh51wBFgBDCLVYrTVKKYwxSGKIa6XoEEIlVkAVQQkg3vt6jjgBuOpRBCEuiTEyTdOVG5umYVmWmlwxRoZhwDmH1rrWJwaQz0+fPsVaS9u2DMOA1hprbV0jQliWpSaP9F9KoZRSSY8xEkKg7/tqLsFIeFrX9V8ylVJXZEkEihJkcdM0hBCuwJAoFnXP88zpdCLnzNu3b6sQYoycTqca0dbaGndCmsSORHiMkaZpMMbUfQSstm0xxlQQxC3yexkV4t7dblfrkDToug7vfXVxSukq+tq2rTVKXEoiSfwJbjFGrLVYa1FKMQxDTTbvfa1dehGSxHlN03A8HpmmqQpT3tKbOFn2FKxElMY591WAEVKlEVGc1pqu6wgh/N/S/wHYNE1VxuFwYBxHfvz4wffv32nblnEcef36Nbe3t7WZtm3p+55lWei6rs48EZGA7r3He1/TQdYaYzDGVFev61pVez6f2e12NbJzznX2hBBwzl05Vvbx3nNzc1NxuJxJMp9LKfR9f0WkiKfrujrnxVmllOrsGGOdbzIaRLSXmO73+6tk0lrz+PhY8bgUpuAhjjfA123biDFeOVOINMbUgSygyyZC/OVaiZvLGfnu3TvGcbxSpig151yB0VrT930lT2bz5WVMXCVqlEcuQyGEGsUyjwSobdtqFF7GvkS4ECjga61Z1/WqXmst+/2ecRzZ7Xb1f33fU0rh7u6OdV2roy7vAJISWmvGcWQYhhr9YgiJTUnCnDPH45GUUo1m4UYuhWIC1XVdEdJk0Au5ArAsEuIu55kAL0VIBB0OB4ZhoOs6Pn36xMePH/n8+XO9oEzTxN3dXZ1LMcaqbgFVVCuCenx8pOu62lCMsQoo51wb3u/3zPPMNE11pl5GtPx96TwR2n6/xzlX+wCuLkfDMDDP89Ucl1qXZWEcR7z3PDw81JQQvJxzzPMMgPe+YngZpfIbqUuwkBpEfIL54XCoAv4f+sZGweFDDBoAAAAASUVORK5CYII=\" y=\"-6.650421\"/>\n   </g>\n  </g>\n  <g id=\"axes_2\">\n   <g clip-path=\"url(#p317476a8e8)\">\n    <image height=\"7\" id=\"imagefaf3be163b\" transform=\"scale(1 -1)translate(0 -7)\" width=\"115\" x=\"122.514172\" xlink:href=\"data:image/png;base64,\niVBORw0KGgoAAAANSUhEUgAAAHMAAAAHCAYAAAA78HIxAAAABHNCSVQICAgIfAhkiAAABTtJREFUSIlll0luE10Xhp/bVWvHJgGUEWKImLAFlsMyskeQkBgxjRISObarXLdu84/OUfL9GZVju+qct702u92uppSotbKuK7VWvPfI37quOOfw3pNzptZKKQVjDMYYPnz4gPeew+HA58+f+f79Oz9+/OD9+/c453h6euLh4UHvW2vFWgtAjJGcM23bYozBWss0TXjvWZaFWiu73Q5jDKfTicvlQtM0rOuKtRbnHDlnhmEAwHtPSol1XZmmiWEYsNbqfa213NzcMI6j7ie7Pj8/0/c9fd8TQmAcR47Hoz6rlIK1lnVdub291d1CCMzzTN/3PD8/s91uFce2bem6Tmed55nD4UCMEYCmaXDOEUJgXVdKKYQQdLZ5nimlsN/vFa+UEpvNhqenJ52t73u897gQwt3lciGlpIvFGAkhKPillP8jt2kajDGcz2dOpxM3Nzc8Pj7y69cvpmnCGMOXL1+4vr4mxkgphVIKtVYOh4OSKwufTieWZcEYo2IJIVBKwXtP13Xsdjt9tsxUSuFyuQBQawUgpUTbtpzPZ/18rVVBiDHSdR05ZzabDU3TEELAOUcpRcWQUiKEQK0VYwxd13E8HrlcLjw+PtJ1HcYYxnFUUdZa1RjOOR4eHkgp8e/fP06nE7VWUkrs93vatiXGyMvLCzln9vs94zgqLofDQQmLMWKtZRgGlmVhmibFIcbIPM+4lNKdgGytJaWkqnlNpLVWvyxL11pZlkWv27YF4OHhgfP5zLdv3+j7nlqrKrOUwjzPWGtp21ZJXpaFnDPOOQB1fs5ZCS6lkFJiWRYkTay1GGNUnUKqOMJ7zzAM1FppmoacMyEEdUPTNLrb5XJhWRacc28SJOeM957z+Uwphc1mo9g45+i6jpeXF4ZhIKVEzlmxqrUSQtDEEaLEDCJAmSnnrDwMw8A4jpoMwzDo99Z1Vbzlng64E7JE6aJSeZCA1XXdmyVloVorMUaNqfv7e+7v77m9vcV7z8ePHwE4n8+qXHHcuq7M84wxBkAJllQQV5xOpzfEShy1bUsIQeNUSPfe45zT+LbWknNWYUociyhkNwFT9mmahhgjzjleXl5wznF1dUXOWd3ivWeaJmKMmjrDMLCu6xsst9utki/zpZTouo5xHJmmSTGSZJJ6K6Ww3W4B1OFd170xnmua5q7rOnWE915jTgaW19M0sSwLMUYlWlQtADnnuL6+xhjD79+/+fv3L1+/fmW73bLZbBiGQTtDlCpuMMYwz7O6SO6fc+ZyuSiJrwUxz7MKS3pHOtEYg/eeGOObnhJyBJBlWZjnWbtS1D8MA8fjkXmeVf193ysmzjklfhgG7XS5fm2I18aQeSThjDF63bYt0zTpLrVWrSA5W8QYdUdJvVorrtZ6Z61VVUqsAAqwACsEizMF2FIKOWdSSkzTpIo5Ho88Pz9r5Lx//562bTUa53lWdwgw4tJxHAkhaGxJIryOOFkohMDV1RUpJZqm0UOSHC5SSup8Ubs4W8gQlwiQ8zzr/3a7nTqt73sV1Xa7VUdLZMqhRsgWvMQwrw+ZXdfp6xjjmwgWU0mVee+5urrSunLOaXeLKJ219u51J/03iqSn5H05mckC0rHiFiHxfD6rs//8+cPPnz+5vb3l3bt3fPr0if1+T0qJlJL2nahaAEopqSuccyzLov0nzxQySimaEMuysK6rKl5mzDnre3K4eXx8ZF1XYoxM06R7hhDe9PbpdNJrSYOcM9M06bUcIl+nlXOOGKPOI2kk/S7EGGPYbDY45zRGX/+CkM8IB1ItEt3ee/4HAjRXu0tmXbIAAAAASUVORK5CYII=\" y=\"-6.650421\"/>\n   </g>\n  </g>\n  <g id=\"axes_3\">\n   <g clip-path=\"url(#pf03504db6b)\">\n    <image height=\"7\" id=\"imageb4000a3f9d\" transform=\"scale(1 -1)translate(0 -7)\" width=\"115\" x=\"237.828345\" xlink:href=\"data:image/png;base64,\niVBORw0KGgoAAAANSUhEUgAAAHMAAAAHCAYAAAA78HIxAAAABHNCSVQICAgIfAhkiAAABThJREFUSIlVlr1200wTx3/7Kcmy4xgOHLoUpKThGrgwOIfbo6emA0JIsGxZ2l2t3uadeZw0tuRoNTP/rzGbzWZNKeGcY1kWlmUhxkhKCWstxhiMMcQYsdaSc8Zay7Is1FrZ7/e0bUutlcvlwvv37/n69SsfP35kv9/z/PzM8/MzOWfmecYYA4AxRt/Xtq3+3nUdKSWmacJaS9/3xBh5eHgghMDNzQ21VpZlwVpLrZWmaZimCeec3pN+LpcLt7e3PD09MU0Th8MB7z2lFN6+fUuMkXVdWdeVGCNt2wJwPp9ZlgWAruuw1jLPM8Mw8ObNG9q2ZRxHmqbh8fERgBAC8zyzLIvODaBtWzabDSklLpcLOWe9NwwDbdsyTRMxRkopNE2Dc46UEuu64r0npUSMkVort7e3PDw8YK3lfD5jrWVdV0zTNOs8z1pMrZVaK9ZamqYh58y6rtrYuq7a4LquTNMEwOFwYL/fczqd2G63fPr0ic+fP/P69Wucczw8PPD7929tcF1Xcs5476m16rvlvJubG3LOTNOE916bstYyjqOSYJ5naq10XQfAPM+EEAghkHOmaRoFHmAYBowxHA4HJUsIAecctVb6vqfWijGGYRjo+55hGLDW0ratkl1IHWNUMsn9tm1JKTGOI957uq7j6emJnDN932OtZbfbAfDr1y+duYhICDwMA7VWvPc457Qf7z2n00nrkXm6tm2/lFIwxrDdbpHv3nuapqGUwrquWrh83+12GGMQVbdti7UW5xw/f/7kz58/3N/fs9/v9X9LKXjvEfKUUgghkFJSwC6Xi4ICkFJS9TnnFFznHMYY1nV9weZlWZQgAmDOWa8FTOmt1so8zwq6qFvOkvc45wghqDquSSaK6rpOlSlO5pzDOcf5fGaaJnU8QB1EiLLZbPDe07Ytxhh1Ru+9knNZFlVj3/dKxv/3777IAMRKpEBRXq31P/SdA8A5RylFwTbGKCuXZdGhOee4u7ujbVt9fhzHFyS5tqUQgtYi30MI9H1P0zTM88xms8Faq0OJMerQpL5pmhSgpmmUdCEEtUj5uwZCokAIJrYtnzFGQgiUUliWhZQSOWcl4el0opSi5BZAxEmapqHrOnLOlFJ49eoVpRRijMQYX8RQSknBFHABlmVhu90SY2SaJtZ1ZZ5nXAjhS62VUopaqgCXUtKD5aAQgqpMBiFAllI4n8/c3NwQY2QcR75//840TWy3W+7u7l7ksGSmZPJms9Gzu67TmsRiJMcEMDlHLH9dV5qm4d+/f1qnqFSIeTgcMMaotYcQ/sscYzidTmqh4gwy4Bgj8zxzPB71feJYXddxOp0U6L9//5Jz1twLIWh/y7IoUSVHZZ4SI9K3955pmjDGKEFjjNqXuErf97i+77/Ig9fSvg5vKRigaRq1NwFTipDFQqxGVDgMA8fjkfv7e10ypBEhUAhBWVdKUYu6ztfL5aKWdv2cnCO2KfVcW65kzW63U1VJr5J1KSUlWM6ZzWZD27bc3t7inHsBnlisXMuOIb/JtahKFCvCcc6p+4lohMCyH4grCmHFviVmhGxy7XLOX2Qzvd5SxculsesQBtRWBFwBXTZN7z3DMOhG+e3bN378+MHxeOTDhw+8e/dOg1/OGMeR7XaL957n52clhZwrJLPWklLSDBPbPhwOuojIYiDWK4vEMAwvYuJ4PKo6LpfLi4wcx5HT6cTj4yNPT0+klNSuAfb7PX3fM46jRpTYt8xkt9tp/d57jQgBTggkuS9gl1KUTEJuwaXve42truvo+55SCv8DazYfywdKxhYAAAAASUVORK5CYII=\" y=\"-6.650421\"/>\n   </g>\n  </g>\n  <g id=\"axes_4\">\n   <g clip-path=\"url(#p75ba6a273c)\">\n    <image height=\"7\" id=\"image9f9f55e5dd\" transform=\"scale(1 -1)translate(0 -7)\" width=\"115\" x=\"353.142517\" xlink:href=\"data:image/png;base64,\niVBORw0KGgoAAAANSUhEUgAAAHMAAAAHCAYAAAA78HIxAAAABHNCSVQICAgIfAhkiAAABQFJREFUSIlVlluKFEsQhr/MrEtWV/d0K8gI+iTIPLoBF+AaXM2Ae9MtuALFCzr0rbLyeh4OEbQDwwxdnZVx+f4/wgDNGENrja7ryDljrcU5hzEGgFIKxhhKKQBYaxmGAWMMzjmccxwOB47HI845Pn78yIcPH3j//j2tNX79+sXpdCLGSGuNUgoxRrbbrZ7p+x7nHF3Xsa4rXddhjOFyueCc43q9Mo4jANM0/RPrOI7knCml0HUdMUastbTWWNeVcRyptWKtxXtPSol1XfHes91u8d7jvccYw/l8JsZIrZX9fk9rDWMMwzBQSiGEwGazwRhD13WEEOj7nq7rmKYJgHVdOR6PANRaKaUwTZOeaa1pPpfLhZQSy7Lw7NkzhmGg1or3nq7ruFwunE4n+r7ncDgQY2Sz2XA+n0kpaSzH4xHnvX+UpnnvtTnAP5dP06TPpLGlFFJKhBAIIbDf7/He8+XLFz5//szLly/Z7Xa8evWKrusUiq7rcM5pIyTZYRg4nU4452it4ZxjnmemaeL58+cMw0Df95RSqLVijCGlRCmFnDMAy7LgnKOUwjzP2ty+7/W5gCMFjTGSUsI5p429u7tjWRastaSUiDEyjqPGcD6fuV6vWvhSCqfTiev1qu8S8Od55unpifP5jAhHYmutYa3VmGKM7HY7aq38/ftX83DOsa6rwvL792+cc2w2G73f9X3/mHNWZVprqbUqkcYYpRoghEBrjb7vaa2Rc8Y5R62VnLM25+npSRN6+/atKqnrOk1Ckqu14pxTxQC01hiGQb8vlEsyOWf6vtdi3z4bx1EdQJxF8hIIrtcry7JQa9Xz1+uVnDMpJQBijJRS/nEtiU0UYoxR0KVGgAI7DAPWWpZl+SeeYRjYbDZM00SMkf1+r8C/ePEC7z3Sl3Ec6fue6/UKoA42TRPTNCkIbhiGRymEqDGEoFSJfQHknLVotwUWCGKMapm1Vs7nM8fjkYeHBw6Hg14sajqfz6pCUZk0UAAJIRBj1EJKcQUw+ZUGSgFTSqSUyDnjvedyuShMKSWMMQqk5Lcsi4K62+0U5mmamOdZQZOm73Y7+r7X2EXB4j4S2y2c4kCtNQUmhKDNdc6Rc9ZRIbDK3dM0Ya3V+GUkxBhxpZRHSebWQsWWbj8XpUkC8nOr4mVZNJCcM9+/f+fr1698+/aNh4cH7u7uNOjbOSaFFaU459QFxNoEMLEmUZAo59ZBJCY5L2NhHEdV+ziOWGvZbDaqaAFGnEKgDSHgvVeliStIc1trhBCYpknzkHqs68r9/T3jOCrA2+1WARKhyP8C8e0eIPPfGMO6rszzrLtN3/cMw4Cz1j6K0qQgEozIXIooxWqtKdG335e/MsPks5QSP3784PXr1+z3e+7v7/Heq+KMMcQYtQlC4K3axNpSSkqmzHCBTdQhsYsDSNKyeNVaWddV3933vRZPaLfWcjqdCCHoApVz1gLLu8WpxI2GYdD5JmdEfRKbwFJK0bl86y63LikCknkt81Ms/jZv03Vdu7XU25kpRbi1VUlGqJdNUpKQBIRaCUI2r3fv3vHp0yfevHmDtZY/f/4QQuDnz596n7VWiyEJSRNlCxVajTHaONlIxZKl0UL0NE2qtnmeFVbZJqW51lpCCJr7PM9473WUiKr3+71CKI313lNrZVkWBVK2YLHGW1cTuEopHA4H4P+5L+qXDVsUK84idZetdrfb8R/IfjQCsVwyqgAAAABJRU5ErkJggg==\" y=\"-6.650421\"/>\n   </g>\n  </g>\n </g>\n <defs>\n  <clipPath id=\"pddeb7582ab\">\n   <rect height=\"6.450421\" width=\"114.172448\" x=\"7.2\" y=\"7.2\"/>\n  </clipPath>\n  <clipPath id=\"p317476a8e8\">\n   <rect height=\"6.450421\" width=\"114.172448\" x=\"122.514172\" y=\"7.2\"/>\n  </clipPath>\n  <clipPath id=\"pf03504db6b\">\n   <rect height=\"6.450421\" width=\"114.172448\" x=\"237.828345\" y=\"7.2\"/>\n  </clipPath>\n  <clipPath id=\"p75ba6a273c\">\n   <rect height=\"6.450421\" width=\"114.172448\" x=\"353.142517\" y=\"7.2\"/>\n  </clipPath>\n </defs>\n</svg>\n",
      "image/png": "[encoded data removed]"
     },
     "metadata": {
      "needs_background": "light"
     }
    }
   ],
   "source": [
    "plot_one_scan(df_test['array'][0])"
   ]
  },
  {
   "cell_type": "code",
   "execution_count": 9,
   "metadata": {},
   "outputs": [
    {
     "output_type": "execute_result",
     "data": {
      "text/plain": "(4, 10, 177)"
     },
     "metadata": {},
     "execution_count": 9
    }
   ],
   "source": [
    "df_test['array'][0].shape"
   ]
  },
  {
   "cell_type": "code",
   "execution_count": null,
   "metadata": {},
   "outputs": [],
   "source": []
  }
 ]
}